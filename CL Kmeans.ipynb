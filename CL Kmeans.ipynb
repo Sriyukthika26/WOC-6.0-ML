{
 "cells": [
  {
   "cell_type": "code",
   "execution_count": 1,
   "id": "ad48f766-d836-42be-b021-dc1ed2f6c9b2",
   "metadata": {},
   "outputs": [],
   "source": [
    "import numpy as np\n",
    "import pandas as pd\n",
    "import matplotlib.pyplot as plt"
   ]
  },
  {
   "cell_type": "code",
   "execution_count": 2,
   "id": "f9f8b2a5-70f0-4872-ab1b-4a695f93f019",
   "metadata": {},
   "outputs": [],
   "source": [
    "data = pd.read_csv(\"Downloads\\\\Kmean_dataset.csv\")\n",
    "# print(data)\n",
    "# print(data.columns)\n",
    "data = data.to_numpy()    #converting the dataset to numpy"
   ]
  },
  {
   "cell_type": "markdown",
   "id": "b588243d-cae8-4cda-9a2f-19ead61d284d",
   "metadata": {},
   "source": [
    "<h3>Feature Scaling</h3>\n",
    "<h4>Mean Normalization</h5>"
   ]
  },
  {
   "cell_type": "code",
   "execution_count": 3,
   "id": "d0419fbf-462d-43c4-a246-855867abc364",
   "metadata": {},
   "outputs": [],
   "source": [
    "def mean_norm(X):\n",
    "    mean_values = np.mean(X, axis=0)\n",
    "    denominator_range = np.ptp(X, axis=0)\n",
    "    output = (X - mean_values)/denominator_range\n",
    "    return output"
   ]
  },
  {
   "cell_type": "code",
   "execution_count": 4,
   "id": "9e1f1a90-ad76-4ee9-885b-e6fb936f8971",
   "metadata": {},
   "outputs": [],
   "source": [
    "X = mean_norm(data)"
   ]
  },
  {
   "cell_type": "code",
   "execution_count": 5,
   "id": "a918a0f7-ba8c-4196-b86d-b910b518f41f",
   "metadata": {},
   "outputs": [
    {
     "data": {
      "text/plain": [
       "array([[ 0.32352158, -0.12378425,  0.03394821, ...,  0.06711428,\n",
       "         0.47923612,  0.22689497],\n",
       "       [ 0.05246895, -0.10995026, -0.12113201, ...,  0.07524436,\n",
       "         0.28875993,  0.21619596],\n",
       "       [ 0.04194264,  0.00467425,  0.16229045, ...,  0.0589842 ,\n",
       "         0.20451084,  0.31248698],\n",
       "       ...,\n",
       "       [ 0.07089001,  0.38412089, -0.05696088, ..., -0.29873938,\n",
       "        -0.38523274,  0.06284361],\n",
       "       [ 0.04457422,  0.05012879,  0.00186264, ..., -0.2906093 ,\n",
       "        -0.36325472,  0.06640994],\n",
       "       [ 0.2972058 ,  0.34854776,  0.19972361, ..., -0.28247922,\n",
       "        -0.37058073, -0.13330475]])"
      ]
     },
     "execution_count": 5,
     "metadata": {},
     "output_type": "execute_result"
    }
   ],
   "source": [
    "X"
   ]
  },
  {
   "cell_type": "code",
   "execution_count": 6,
   "id": "628a937e-d50f-4b31-91c2-7455e0768185",
   "metadata": {},
   "outputs": [
    {
     "data": {
      "text/plain": [
       "(178, 13)"
      ]
     },
     "execution_count": 6,
     "metadata": {},
     "output_type": "execute_result"
    }
   ],
   "source": [
    "X.shape"
   ]
  },
  {
   "cell_type": "markdown",
   "id": "eaed9ba6-6404-48ed-87a4-0fa531e690be",
   "metadata": {},
   "source": [
    "<h3>Defining necessary Functions</h3>"
   ]
  },
  {
   "cell_type": "code",
   "execution_count": 7,
   "id": "89d374b5-caf3-4c14-bf42-649fd6f4a797",
   "metadata": {},
   "outputs": [],
   "source": [
    "''' Initializing k centroids from training dataset'''\n",
    "def k_centroids(X,k):\n",
    "    m,n = X.shape\n",
    "    init_centroids = X[np.random.choice(m , k , replace = False)]\n",
    "    return init_centroids"
   ]
  },
  {
   "cell_type": "code",
   "execution_count": 8,
   "id": "dbe5c50e-033c-459c-aecd-74ac001cfa1e",
   "metadata": {},
   "outputs": [],
   "source": [
    "'''Clustering the training datapoints to centroids'''\n",
    "def label_datapoints( X , centroids):\n",
    "    m,n = X.shape\n",
    "    k = centroids.shape[0]\n",
    "    idx=np.zeros(m)\n",
    "    for i in range(m):\n",
    "        diff = (centroids - X[i])**2\n",
    "        dist = np.sum(diff , axis = 1)\n",
    "        idx[i] = np.argmin(dist)\n",
    "    return idx       "
   ]
  },
  {
   "cell_type": "code",
   "execution_count": 9,
   "id": "05005cac-0eff-4f8c-9ad0-906ad6a40c22",
   "metadata": {},
   "outputs": [],
   "source": [
    "'''calculate new centroids'''\n",
    "def compute_centroids(X , centroids, idx):\n",
    "    k= centroids.shape[0]\n",
    "    m,n = X.shape\n",
    "    new_centroids = np.zeros((k,n))\n",
    "    for i in range(k):\n",
    "        points = X[ idx == i]\n",
    "        new_centroids[i] = np.mean(points , axis = 0)\n",
    "    return new_centroids"
   ]
  },
  {
   "cell_type": "code",
   "execution_count": 10,
   "id": "f9a58c2b-d4c1-48c0-b6fb-ba1e8a76fd9b",
   "metadata": {},
   "outputs": [],
   "source": [
    "def compute_wcss(X,centroids,idx):\n",
    "    m,n = X.shape\n",
    "    k=centroids.shape[0]\n",
    "    wcss=0\n",
    "    for i in range(k):\n",
    "        points = X[idx == i]\n",
    "        distortion = np.sum((points - centroids[i])**2)\n",
    "        wcss= wcss + distortion\n",
    "    return wcss"
   ]
  },
  {
   "cell_type": "code",
   "execution_count": 11,
   "id": "83e94d96-09af-4887-ae43-a2e1261e8185",
   "metadata": {},
   "outputs": [],
   "source": [
    "def RunK_means(X, k , num_iters, tol):\n",
    "    m, n = X.shape\n",
    "    centroids = k_centroids(X,k)\n",
    "    idx = np.zeros(m)\n",
    "    for i in range(num_iters):\n",
    "        idx = label_datapoints(X, centroids)\n",
    "        new_centroids = compute_centroids(X, centroids, idx)\n",
    "        if np.linalg.norm(new_centroids - centroids) < tol:\n",
    "            break\n",
    "        centroids = new_centroids    \n",
    "    wcss = compute_wcss(X, centroids, idx)\n",
    "    return idx, wcss "
   ]
  },
  {
   "cell_type": "code",
   "execution_count": 12,
   "id": "507c18c3-ddf6-458f-9f89-44c9ac457851",
   "metadata": {},
   "outputs": [],
   "source": [
    "def elbow_method(X, K, num_iters,tol):\n",
    "    m,n = X.shape\n",
    "    wcss = np.zeros(K)\n",
    "    for k in range(K):\n",
    "        idx,wcss[k] = RunK_means(X,k+1 , num_iters,tol)\n",
    "    x= np.arange(1,K+1)\n",
    "    plt.plot(x , wcss, marker='o')\n",
    "    plt.title('Elbow Graph to determine optimal number of clusters')\n",
    "    plt.xlabel('No. of clusters')\n",
    "    plt.ylabel('wcss')\n",
    "    plt.show()\n",
    "    print(wcss)"
   ]
  },
  {
   "cell_type": "code",
   "execution_count": 13,
   "id": "35fccaf9-ec37-496f-a387-b25db261d90a",
   "metadata": {},
   "outputs": [
    {
     "data": {
      "image/png": "[encoded data removed]",
      "text/plain": [
       "<Figure size 640x480 with 1 Axes>"
      ]
     },
     "metadata": {},
     "output_type": "display_data"
    },
    {
     "name": "stdout",
     "output_type": "stream",
     "text": [
      "[95.59953778 64.53766702 48.98884443 45.13845603 44.19938061 39.56895258\n",
      " 38.71654797 36.92215855 36.00352261 36.0616277  33.60857583 33.55840877]\n"
     ]
    }
   ],
   "source": [
    "elbow_method(X,12, 100,tol = 1e-4)"
   ]
  },
  {
   "cell_type": "code",
   "execution_count": 16,
   "id": "8a1917a2-920e-4662-9466-e2006a13fb82",
   "metadata": {},
   "outputs": [],
   "source": [
    "labels , wcss = RunK_means(X,6,100 , 1e-4)"
   ]
  },
  {
   "cell_type": "code",
   "execution_count": 17,
   "id": "d444eae6-2dd8-4d98-ba63-a0233b419661",
   "metadata": {},
   "outputs": [
    {
     "data": {
      "text/plain": [
       "array([5., 5., 5., 5., 5., 5., 5., 5., 5., 5., 5., 5., 5., 5., 5., 5., 5.,\n",
       "       5., 5., 5., 5., 3., 5., 5., 5., 5., 5., 5., 5., 5., 5., 5., 5., 5.,\n",
       "       5., 5., 5., 5., 1., 5., 5., 5., 5., 3., 5., 5., 5., 5., 5., 5., 5.,\n",
       "       5., 5., 5., 5., 5., 5., 5., 5., 1., 2., 2., 1., 3., 2., 1., 3., 0.,\n",
       "       2., 1., 2., 3., 0., 5., 3., 1., 1., 2., 1., 3., 0., 3., 0., 2., 3.,\n",
       "       1., 0., 0., 0., 0., 2., 2., 2., 3., 3., 1., 1., 1., 3., 3., 1., 1.,\n",
       "       0., 0., 0., 2., 0., 2., 0., 3., 3., 0., 2., 0., 0., 0., 0., 0., 2.,\n",
       "       0., 3., 3., 0., 3., 3., 0., 3., 2., 0., 0., 1., 4., 4., 4., 2., 4.,\n",
       "       4., 4., 4., 2., 2., 4., 4., 4., 4., 4., 4., 4., 4., 4., 4., 4., 4.,\n",
       "       4., 4., 4., 4., 4., 4., 4., 4., 4., 2., 4., 4., 4., 4., 4., 4., 4.,\n",
       "       4., 4., 4., 4., 4., 4., 4., 4.])"
      ]
     },
     "execution_count": 17,
     "metadata": {},
     "output_type": "execute_result"
    }
   ],
   "source": [
    "labels"
   ]
  },
  {
   "cell_type": "code",
   "execution_count": null,
   "id": "17d7fda3-fdba-4210-9fb0-651b2ef373c6",
   "metadata": {},
   "outputs": [],
   "source": []
  }
 ],
 "metadata": {
  "kernelspec": {
   "display_name": "Python 3 (ipykernel)",
   "language": "python",
   "name": "python3"
  },
  "language_info": {
   "codemirror_mode": {
    "name": "ipython",
    "version": 3
   },
   "file_extension": ".py",
   "mimetype": "text/x-python",
   "name": "python",
   "nbconvert_exporter": "python",
   "pygments_lexer": "ipython3",
   "version": "3.11.4"
  }
 },
 "nbformat": 4,
 "nbformat_minor": 5
}
