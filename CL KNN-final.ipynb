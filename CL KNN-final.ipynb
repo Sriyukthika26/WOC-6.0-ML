{
 "cells": [
  {
   "cell_type": "code",
   "execution_count": 1,
   "id": "d40ef3a8-63a5-4ba3-a42d-dc4983c99cee",
   "metadata": {},
   "outputs": [],
   "source": [
    "import numpy as np\n",
    "import pandas as pd\n",
    "import matplotlib.pyplot as plt\n"
   ]
  },
  {
   "cell_type": "code",
   "execution_count": 2,
   "id": "3ea0c375-6923-451d-b549-0539c4de6da6",
   "metadata": {},
   "outputs": [],
   "source": [
    "data = pd.read_csv(\"Downloads\\\\Classification_train\\\\Classification_train.csv\")\n",
    "# print(data)\n",
    "# print(data.columns)\n",
    "data = data.to_numpy()    #converting the dataset to numpy"
   ]
  },
  {
   "cell_type": "markdown",
   "id": "afedcd91-14f7-40ea-8ef0-b5056b5877a8",
   "metadata": {},
   "source": [
    "<H3>STEPS</H3>\n",
    "1)Understanding the training dataset and validation dataset\n",
    "<br>\n",
    "2)Feature scaling\n",
    "<br>\n",
    "3)Defining necessary functions\n",
    "<br>\n",
    "4)accuracy\n",
    "<br>\n",
    "5)Working on Test-dataset"
   ]
  },
  {
   "cell_type": "code",
   "execution_count": 3,
   "id": "ab45678e-6ec0-4109-ba99-7831fc0c109a",
   "metadata": {},
   "outputs": [],
   "source": [
    "np.random.shuffle(data)\n",
    "X = data[:, range(1,785)]   #features\n",
    "Y = data[: , 0]            #targets"
   ]
  },
  {
   "cell_type": "code",
   "execution_count": 4,
   "id": "919a8275-fcf7-4bcf-8db5-b64341391235",
   "metadata": {},
   "outputs": [],
   "source": [
    "X_train = X[:20000 , :]\n",
    "Y_train = Y[:20000]\n",
    "X_val = X[20000: , :]\n",
    "Y_val = Y[20000:]\n"
   ]
  },
  {
   "cell_type": "code",
   "execution_count": 5,
   "id": "d15285e4-1d2d-47b2-a93c-1fd7466da729",
   "metadata": {},
   "outputs": [
    {
     "name": "stdout",
     "output_type": "stream",
     "text": [
      "[[0 0 0 ... 0 0 0]\n",
      " [0 0 0 ... 0 0 0]]\n"
     ]
    },
    {
     "data": {
      "text/plain": [
       "(20000, 784)"
      ]
     },
     "execution_count": 5,
     "metadata": {},
     "output_type": "execute_result"
    }
   ],
   "source": [
    "print(X_train[:2, :])\n",
    "X_train.shape\n"
   ]
  },
  {
   "cell_type": "code",
   "execution_count": 6,
   "id": "009a0934-ae9c-4c56-b027-a400b5145208",
   "metadata": {},
   "outputs": [
    {
     "name": "stdout",
     "output_type": "stream",
     "text": [
      "[2 5 5 ... 1 5 7]\n",
      "(20000,)\n",
      "int64\n"
     ]
    }
   ],
   "source": [
    "print(Y_train)\n",
    "print(Y_train.shape)\n",
    "print(Y_train.dtype)"
   ]
  },
  {
   "cell_type": "code",
   "execution_count": 7,
   "id": "a1456f13-a447-4498-8af7-e5399ff36820",
   "metadata": {},
   "outputs": [
    {
     "name": "stdout",
     "output_type": "stream",
     "text": [
      "255\n",
      "0\n"
     ]
    }
   ],
   "source": [
    "print(X_train[0].max())\n",
    "print(X_train[0].min())"
   ]
  },
  {
   "cell_type": "markdown",
   "id": "f4acd25b-179b-4378-9d80-41589b8b2ae3",
   "metadata": {},
   "source": [
    "<h3>Feature Scaling</h3>"
   ]
  },
  {
   "cell_type": "code",
   "execution_count": 10,
   "id": "f3158442-9ebf-4ad8-be25-299aabac6c01",
   "metadata": {},
   "outputs": [],
   "source": [
    "def norm(X):\n",
    "    denominator_range = np.ptp(X, axis=1 , keepdims = True)\n",
    "    output = X/denominator_range\n",
    "\n",
    "    return output"
   ]
  },
  {
   "cell_type": "code",
   "execution_count": 11,
   "id": "8fa1ecac-0341-48f4-be09-3cde5e095dbc",
   "metadata": {},
   "outputs": [
    {
     "name": "stdout",
     "output_type": "stream",
     "text": [
      "[[0 0 0 ... 0 0 0]\n",
      " [0 0 0 ... 0 0 0]\n",
      " [0 0 0 ... 0 0 0]\n",
      " ...\n",
      " [0 0 0 ... 0 0 0]\n",
      " [0 0 0 ... 0 0 0]\n",
      " [0 0 0 ... 0 0 0]]\n"
     ]
    }
   ],
   "source": [
    "X_train_final = norm(X_train)    #final X that is to be used for further computations\n",
    "print(X_train)\n",
    "X_val_final = norm(X_val)"
   ]
  },
  {
   "cell_type": "code",
   "execution_count": 12,
   "id": "35f2f8bb-12b1-4108-9177-b98dae07245c",
   "metadata": {},
   "outputs": [
    {
     "name": "stdout",
     "output_type": "stream",
     "text": [
      "1.0\n",
      "0.0\n"
     ]
    }
   ],
   "source": [
    "print(X_train_final[0].max())\n",
    "print(X_train_final[0].min())"
   ]
  },
  {
   "cell_type": "code",
   "execution_count": 13,
   "id": "e46a5b64-e38b-40c8-98b0-2e468bd86e98",
   "metadata": {},
   "outputs": [
    {
     "name": "stdout",
     "output_type": "stream",
     "text": [
      "1.0\n",
      "0.0\n"
     ]
    }
   ],
   "source": [
    "print(X_val_final[0].max())\n",
    "print(X_val_final[0].min())"
   ]
  },
  {
   "cell_type": "code",
   "execution_count": 14,
   "id": "ebcbfd7b-ea51-435b-904c-a100afa1bb3f",
   "metadata": {},
   "outputs": [
    {
     "data": {
      "text/plain": [
       "<function matplotlib.pyplot.show(close=None, block=None)>"
      ]
     },
     "execution_count": 14,
     "metadata": {},
     "output_type": "execute_result"
    },
    {
     "data": {
      "image/png": "[encoded data removed]",
      "text/plain": [
       "<Figure size 1200x300 with 3 Axes>"
      ]
     },
     "metadata": {},
     "output_type": "display_data"
    }
   ],
   "source": [
    "fig,ax=plt.subplots(1,3,figsize=(12,3))\n",
    "for i in range(3):\n",
    "    ax[i].imshow(X_train[i].reshape(28,28))\n",
    "plt.tight_layout()\n",
    "plt.show"
   ]
  },
  {
   "cell_type": "code",
   "execution_count": 15,
   "id": "5e907ed1-9ae6-4fa7-97eb-aa3ee1cae4b0",
   "metadata": {},
   "outputs": [
    {
     "data": {
      "text/plain": [
       "<function matplotlib.pyplot.show(close=None, block=None)>"
      ]
     },
     "execution_count": 15,
     "metadata": {},
     "output_type": "execute_result"
    },
    {
     "data": {
      "image/png": "[encoded data removed]",
      "text/plain": [
       "<Figure size 1200x300 with 3 Axes>"
      ]
     },
     "metadata": {},
     "output_type": "display_data"
    }
   ],
   "source": [
    "fig,ax=plt.subplots(1,3,figsize=(12,3))\n",
    "for i in range(3):\n",
    "    ax[i].imshow(X_val[i].reshape(28,28))\n",
    "plt.tight_layout()\n",
    "plt.show"
   ]
  },
  {
   "cell_type": "code",
   "execution_count": 16,
   "id": "42005975-ac7c-41c5-a374-07b09600b76a",
   "metadata": {},
   "outputs": [
    {
     "name": "stdout",
     "output_type": "stream",
     "text": [
      "[0 1 2 3 4 5 6 7 8 9]\n"
     ]
    }
   ],
   "source": [
    "t = np.unique(Y_train)\n",
    "print(t)"
   ]
  },
  {
   "cell_type": "code",
   "execution_count": 17,
   "id": "d11176e7-a025-4352-8860-144634a8f531",
   "metadata": {},
   "outputs": [
    {
     "name": "stdout",
     "output_type": "stream",
     "text": [
      "10\n"
     ]
    }
   ],
   "source": [
    "classes = t.shape[0]\n",
    "print(classes)"
   ]
  },
  {
   "cell_type": "code",
   "execution_count": 21,
   "id": "5c2c32c6-5ae9-4d40-9357-3e13f9d5def9",
   "metadata": {},
   "outputs": [],
   "source": [
    "def KNN(X_train , X_test, Y_train,K):\n",
    "    m,n  = X_test.shape\n",
    "    Y_predict = np.zeros(m)\n",
    "    distances = -2*X_test@X_train.T + np.sum(X_test**2 , axis = 1 , keepdims = True) + np.sum(X_train**2  , axis = 1 , keepdims = 1).T\n",
    "    sorted_dist_indices = np.argsort(distances , axis = 1)\n",
    "    for i in range(m):       \n",
    "        labels = Y_train[sorted_dist_indices[i , :K]]\n",
    "        Y_predict[i] = np.bincount(labels).argmax()\n",
    "    return Y_predict"
   ]
  },
  {
   "cell_type": "code",
   "execution_count": 29,
   "id": "e6f152fd-f676-4451-a112-f674c66b9e36",
   "metadata": {},
   "outputs": [
    {
     "name": "stdout",
     "output_type": "stream",
     "text": [
      "Accuracy for k = 3 : 0.9774\n",
      "Accuracy for k = 5 : 0.977\n",
      "Accuracy for k = 7 : 0.9758\n",
      "Accuracy for k = 9 : 0.9749\n",
      "Accuracy for k = 11 : 0.973\n"
     ]
    }
   ],
   "source": [
    "for k in [3, 5, 7, 9, 11]:\n",
    "    Y_predict = KNN(X_train_final, X_val_final, Y_train, K=k)\n",
    "    acc = np.mean(Y_predict == Y_val)\n",
    "    print(\"Accuracy for k =\", k, \":\", acc)\n",
    "\n"
   ]
  },
  {
   "cell_type": "markdown",
   "id": "d746c513-57d1-4436-8d13-70615b8564e9",
   "metadata": {},
   "source": [
    "<h5>OPTIMAL \"K\" VALUE = \"3\"</h5>"
   ]
  },
  {
   "cell_type": "markdown",
   "id": "92f990dd-3e30-40b2-adc9-d54df9277d18",
   "metadata": {},
   "source": [
    "<h3>Testing the model on the Test dataset</h3>"
   ]
  },
  {
   "cell_type": "code",
   "execution_count": 22,
   "id": "dd5527d0-2f41-4af6-892a-86dfe137c202",
   "metadata": {},
   "outputs": [],
   "source": [
    "test_data = pd.read_csv(\"Downloads\\\\Classification_test\\\\Classification_test.csv\")\n",
    "# print(test_data.columns)\n",
    "test_data = test_data.to_numpy()"
   ]
  },
  {
   "cell_type": "code",
   "execution_count": 23,
   "id": "7f3297e9-7bbb-4470-8c08-26c656382179",
   "metadata": {},
   "outputs": [],
   "source": [
    "test_X = np.delete(test_data , 0 , axis =1)\n",
    "ID = test_data[:,0]"
   ]
  },
  {
   "cell_type": "code",
   "execution_count": 24,
   "id": "0ac4df37-fff0-4da3-8511-297201d2dfaa",
   "metadata": {},
   "outputs": [
    {
     "data": {
      "text/plain": [
       "(10000, 784)"
      ]
     },
     "execution_count": 24,
     "metadata": {},
     "output_type": "execute_result"
    }
   ],
   "source": [
    "test_X.shape"
   ]
  },
  {
   "cell_type": "code",
   "execution_count": 25,
   "id": "bb77171f-c978-46c1-a678-9a1bd2bef61f",
   "metadata": {},
   "outputs": [],
   "source": [
    "test_X_final = norm(test_X)"
   ]
  },
  {
   "cell_type": "code",
   "execution_count": 26,
   "id": "53b5b31b-ca5f-4c29-9c24-98066c2686cd",
   "metadata": {},
   "outputs": [
    {
     "data": {
      "text/plain": [
       "<function matplotlib.pyplot.show(close=None, block=None)>"
      ]
     },
     "execution_count": 26,
     "metadata": {},
     "output_type": "execute_result"
    },
    {
     "data": {
      "image/png": "[encoded data removed]",
      "text/plain": [
       "<Figure size 1200x300 with 3 Axes>"
      ]
     },
     "metadata": {},
     "output_type": "display_data"
    }
   ],
   "source": [
    "fig,ax=plt.subplots(1,3,figsize=(12,3))\n",
    "for i in range(3):\n",
    "    ax[i].imshow(test_X[i].reshape(28,28))\n",
    "plt.tight_layout()\n",
    "plt.show"
   ]
  },
  {
   "cell_type": "code",
   "execution_count": 30,
   "id": "89fa5672-f60c-49b2-a3f8-52f20378ecd6",
   "metadata": {},
   "outputs": [],
   "source": [
    "test_Y_predict = KNN(X_train_final , test_X_final , Y_train , K=3)"
   ]
  },
  {
   "cell_type": "code",
   "execution_count": 31,
   "id": "f3e14c73-6cc1-4478-b41a-cae10a392e0b",
   "metadata": {},
   "outputs": [
    {
     "name": "stdout",
     "output_type": "stream",
     "text": [
      "[0. 4. 5. ... 0. 8. 4.]\n"
     ]
    },
    {
     "data": {
      "text/plain": [
       "(10000,)"
      ]
     },
     "execution_count": 31,
     "metadata": {},
     "output_type": "execute_result"
    }
   ],
   "source": [
    "print(test_Y_predict)\n",
    "test_Y_predict.shape"
   ]
  },
  {
   "cell_type": "code",
   "execution_count": 32,
   "id": "d143fef5-3ba0-447b-a99b-2399ec9a0fbf",
   "metadata": {},
   "outputs": [],
   "source": [
    "predictions = np.c_[ID,test_Y_predict]\n",
    "df = pd.DataFrame(predictions , columns = ['IDs','Predicted-Labels'])\n",
    "df.to_csv(\"Downloads\\\\CL-Project\\\\KNN_Predictions.csv\", index=False)"
   ]
  },
  {
   "cell_type": "code",
   "execution_count": null,
   "id": "b0b0cbbd-d830-4ece-97f6-31d7df1a6656",
   "metadata": {},
   "outputs": [],
   "source": []
  }
 ],
 "metadata": {
  "kernelspec": {
   "display_name": "Python 3 (ipykernel)",
   "language": "python",
   "name": "python3"
  },
  "language_info": {
   "codemirror_mode": {
    "name": "ipython",
    "version": 3
   },
   "file_extension": ".py",
   "mimetype": "text/x-python",
   "name": "python",
   "nbconvert_exporter": "python",
   "pygments_lexer": "ipython3",
   "version": "3.11.4"
  }
 },
 "nbformat": 4,
 "nbformat_minor": 5
}
