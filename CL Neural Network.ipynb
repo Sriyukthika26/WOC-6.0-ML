{
 "cells": [
  {
   "cell_type": "code",
   "execution_count": 1,
   "id": "e729671b-4896-43e0-ba21-589c8bda1003",
   "metadata": {},
   "outputs": [],
   "source": [
    "import numpy as np\n",
    "import pandas as pd\n",
    "import matplotlib.pyplot as plt\n",
    "import math,copy"
   ]
  },
  {
   "cell_type": "code",
   "execution_count": 2,
   "id": "90de846f-e180-4d48-bd01-351cacde315a",
   "metadata": {},
   "outputs": [],
   "source": [
    "data = pd.read_csv(\"Downloads\\\\Classification_train\\\\Classification_train.csv\")\n",
    "# print(data)\n",
    "# print(data.columns)\n",
    "data = data.to_numpy()    #converting the dataset to numpy"
   ]
  },
  {
   "cell_type": "code",
   "execution_count": 3,
   "id": "964e83e6-284e-4d8b-8fa3-93083c60c23e",
   "metadata": {},
   "outputs": [],
   "source": [
    "np.random.shuffle(data)\n",
    "X = data[:, range(1,785)]   #features\n",
    "Y = data[: , 0]            #targets"
   ]
  },
  {
   "cell_type": "code",
   "execution_count": 4,
   "id": "0f0231c4-2dfc-4534-8c48-9b5c323ac647",
   "metadata": {},
   "outputs": [],
   "source": [
    "X_train = X[:20000 , :]\n",
    "Y_train = Y[:20000]\n",
    "X_val = X[20000: , :]\n",
    "Y_val = Y[20000:]"
   ]
  },
  {
   "cell_type": "code",
   "execution_count": 5,
   "id": "d2b14b70-75ea-46a9-937a-2a4e43e85313",
   "metadata": {},
   "outputs": [
    {
     "name": "stdout",
     "output_type": "stream",
     "text": [
      "[[0 0 0 ... 0 0 0]\n",
      " [0 0 0 ... 0 0 0]]\n"
     ]
    },
    {
     "data": {
      "text/plain": [
       "(20000, 784)"
      ]
     },
     "execution_count": 5,
     "metadata": {},
     "output_type": "execute_result"
    }
   ],
   "source": [
    "print(X_train[:2, :])\n",
    "X_train.shape"
   ]
  },
  {
   "cell_type": "code",
   "execution_count": 6,
   "id": "bd1158c1-0be6-49e9-b92e-ad9792764415",
   "metadata": {},
   "outputs": [
    {
     "name": "stdout",
     "output_type": "stream",
     "text": [
      "[5 2 0 ... 0 7 7]\n"
     ]
    },
    {
     "data": {
      "text/plain": [
       "(20000,)"
      ]
     },
     "execution_count": 6,
     "metadata": {},
     "output_type": "execute_result"
    }
   ],
   "source": [
    "print(Y_train)\n",
    "Y_train.shape"
   ]
  },
  {
   "cell_type": "code",
   "execution_count": 7,
   "id": "a7c3d4a5-ec27-4c0b-83b5-3dd2c725decb",
   "metadata": {},
   "outputs": [
    {
     "name": "stdout",
     "output_type": "stream",
     "text": [
      "255\n",
      "0\n"
     ]
    }
   ],
   "source": [
    "print(X_train[0].max())\n",
    "print(X_train[0].min()) "
   ]
  },
  {
   "cell_type": "markdown",
   "id": "530c2eb5-2a71-495b-bb05-db61bd505988",
   "metadata": {},
   "source": [
    "<h3>Feature Scaling</h3>"
   ]
  },
  {
   "cell_type": "code",
   "execution_count": 8,
   "id": "3020b491-6f2a-45b9-8741-9b3ddd59e97c",
   "metadata": {},
   "outputs": [],
   "source": [
    "def norm(X):\n",
    "    denominator_range = np.ptp(X, axis=1 , keepdims = True)\n",
    "    output = X/denominator_range\n",
    "    return output"
   ]
  },
  {
   "cell_type": "code",
   "execution_count": 9,
   "id": "89f8c54e-85ed-4263-8d52-2a0a27527ce5",
   "metadata": {},
   "outputs": [
    {
     "name": "stdout",
     "output_type": "stream",
     "text": [
      "[[0. 0. 0. ... 0. 0. 0.]\n",
      " [0. 0. 0. ... 0. 0. 0.]\n",
      " [0. 0. 0. ... 0. 0. 0.]\n",
      " ...\n",
      " [0. 0. 0. ... 0. 0. 0.]\n",
      " [0. 0. 0. ... 0. 0. 0.]\n",
      " [0. 0. 0. ... 0. 0. 0.]]\n"
     ]
    }
   ],
   "source": [
    "X_train_final = norm(X_train)    #final X that is to be used for further computations\n",
    "print(X_train_final)\n",
    "X_val_final = norm(X_val)"
   ]
  },
  {
   "cell_type": "code",
   "execution_count": 10,
   "id": "cf782418-4b81-4fed-aeba-0a75d23cb445",
   "metadata": {},
   "outputs": [
    {
     "name": "stdout",
     "output_type": "stream",
     "text": [
      "1.0\n",
      "0.0\n"
     ]
    }
   ],
   "source": [
    "print(X_train_final.max())\n",
    "print(X_train_final.min())"
   ]
  },
  {
   "cell_type": "code",
   "execution_count": 11,
   "id": "d5573c99-c9de-411c-aee1-4c25197ffbd6",
   "metadata": {},
   "outputs": [
    {
     "name": "stdout",
     "output_type": "stream",
     "text": [
      "1.0\n",
      "0.0\n"
     ]
    }
   ],
   "source": [
    "print(X_val_final[0].max())\n",
    "print(X_val_final[0].min())"
   ]
  },
  {
   "cell_type": "code",
   "execution_count": 12,
   "id": "e5b15f5b-bde9-4d37-baf4-cbba68d60d04",
   "metadata": {},
   "outputs": [
    {
     "data": {
      "text/plain": [
       "<function matplotlib.pyplot.show(close=None, block=None)>"
      ]
     },
     "execution_count": 12,
     "metadata": {},
     "output_type": "execute_result"
    },
    {
     "data": {
      "image/png": "[encoded data removed]",
      "text/plain": [
       "<Figure size 1200x300 with 3 Axes>"
      ]
     },
     "metadata": {},
     "output_type": "display_data"
    }
   ],
   "source": [
    "fig,ax=plt.subplots(1,3,figsize=(12,3))\n",
    "for i in range(3):\n",
    "    ax[i].imshow(X_train[i].reshape(28,28))\n",
    "plt.tight_layout()\n",
    "plt.show"
   ]
  },
  {
   "cell_type": "code",
   "execution_count": 13,
   "id": "ac626213-1fdd-4ad5-a14f-49445efa8e34",
   "metadata": {},
   "outputs": [
    {
     "data": {
      "text/plain": [
       "<function matplotlib.pyplot.show(close=None, block=None)>"
      ]
     },
     "execution_count": 13,
     "metadata": {},
     "output_type": "execute_result"
    },
    {
     "data": {
      "image/png": "[encoded data removed]",
      "text/plain": [
       "<Figure size 1200x300 with 3 Axes>"
      ]
     },
     "metadata": {},
     "output_type": "display_data"
    }
   ],
   "source": [
    "fig,ax=plt.subplots(1,3,figsize=(12,3))\n",
    "for i in range(3):\n",
    "    ax[i].imshow(X_val[i].reshape(28,28))\n",
    "plt.tight_layout()\n",
    "plt.show"
   ]
  },
  {
   "cell_type": "code",
   "execution_count": 14,
   "id": "b477204d-6ab4-46b3-8b8f-fc19929451d9",
   "metadata": {},
   "outputs": [
    {
     "name": "stdout",
     "output_type": "stream",
     "text": [
      "[0 1 2 3 4 5 6 7 8 9]\n"
     ]
    }
   ],
   "source": [
    "t = np.unique(Y_train)\n",
    "print(t)"
   ]
  },
  {
   "cell_type": "code",
   "execution_count": 15,
   "id": "71012f12-7985-459e-8a03-f28e3e2df9a5",
   "metadata": {},
   "outputs": [
    {
     "name": "stdout",
     "output_type": "stream",
     "text": [
      "10\n"
     ]
    }
   ],
   "source": [
    "classes = t.shape[0]\n",
    "print(classes)"
   ]
  },
  {
   "cell_type": "markdown",
   "id": "b0cf0860-3a6e-41dd-ba8f-8c5bea147738",
   "metadata": {},
   "source": [
    "<h3>Defining some necessary function</h3>"
   ]
  },
  {
   "cell_type": "code",
   "execution_count": 16,
   "id": "c18700bf-f2d3-40cb-9c10-f3f73b41dba3",
   "metadata": {},
   "outputs": [],
   "source": [
    "def init_parameters(X, hid_size):\n",
    "    m,n = X.shape\n",
    "    w1 = 0.01*np.random.randn(hid_size,n)\n",
    "    b1 = np.random.randn(hid_size)\n",
    "    w2 = 0.01*np.random.randn(classes , hid_size)\n",
    "    b2 = np.random.randn(classes)\n",
    "    return w1,b1,w2,b2\n"
   ]
  },
  {
   "cell_type": "code",
   "execution_count": 17,
   "id": "f6d94556-3dd1-42d5-8e52-8ea0cbd86109",
   "metadata": {},
   "outputs": [],
   "source": [
    "def ReLU(a):\n",
    "    a_active = np.maximum(0,a)\n",
    "    return a_active"
   ]
  },
  {
   "cell_type": "code",
   "execution_count": 18,
   "id": "56b9dff3-8643-4d8e-8088-fef36444bf97",
   "metadata": {},
   "outputs": [],
   "source": [
    "def softmax(a):\n",
    "    sub_values = a - np.max(a , axis=1 , keepdims=True)\n",
    "    exp_values = np.exp(sub_values)\n",
    "    norm_base =  np.sum(exp_values , axis = 1, keepdims=True)\n",
    "    norm_values = exp_values/norm_base\n",
    "    return norm_values"
   ]
  },
  {
   "cell_type": "code",
   "execution_count": 19,
   "id": "9bdd108a-e04d-46eb-9ab7-44818f98f876",
   "metadata": {},
   "outputs": [],
   "source": [
    "def forward_propagation(X, w1 , b1, w2, b2):\n",
    "    z1 = X@w1.T + b1            #m,hid_size\n",
    "    a1 = ReLU(z1)\n",
    "    z2 = a1@w2.T + b2           # m,classes\n",
    "    a2 = softmax(z2)\n",
    "    return z1,a1,z2,a2"
   ]
  },
  {
   "cell_type": "code",
   "execution_count": 20,
   "id": "4b21bb7d-436a-46f2-9abf-9e6c1d2b07e7",
   "metadata": {},
   "outputs": [],
   "source": [
    "def back_prop(X,Y,z1 , a1 , z2, a2,w2):\n",
    "    m,n = X.shape\n",
    "    dz2 = a2\n",
    "    dz2[range(len(X)), Y] -= 1                             # (m , classes)\n",
    "    dw2 = (dz2.T @ a1)/m                                   # dw2 = (classes,hid_size)\n",
    "    db2 = np.mean(dz2 , axis=0)\n",
    "    da1 = z1>0\n",
    "    dw1 = (((dz2@w2)*da1).T@X)/m\n",
    "    db1 = np.mean((dz2@w2)*da1 , axis=0)\n",
    "    return dw1,db1,dw2,db2\n",
    "    "
   ]
  },
  {
   "cell_type": "code",
   "execution_count": 21,
   "id": "ab4a7f0f-713d-4d23-9612-39f267c5b941",
   "metadata": {},
   "outputs": [],
   "source": [
    "'''function to perform Gradient Descent algorithm'''\n",
    "def Gradient_descent(X, Y , num_iters,alpha,hid_size):\n",
    "    m,n = X.shape\n",
    "    w1,b1,w2,b2 = init_parameters(X, hid_size)\n",
    "    cost_history = []\n",
    "    for i in range(num_iters):\n",
    "        z1,a1,z2,a2 = forward_propagation(X, w1 , b1, w2, b2)\n",
    "        a2 = np.clip(a2 , 1e-7  , 1-1e-7)\n",
    "        loss = -np.log(a2[np.arange(len(a2)), Y])\n",
    "        cross_entropy = np.mean(loss)\n",
    "        dw1,db1,dw2,db2 = back_prop(X,Y,z1 , a1 , z2, a2,w2)\n",
    "        w1 = w1 - (alpha*dw1)\n",
    "        b1 = b1 - (alpha*db1)\n",
    "        w2 = w2 - (alpha*dw2)\n",
    "        b2 = b2 - (alpha*db2)\n",
    "        cost_history.append(cross_entropy)\n",
    "        if ( i% math.ceil(num_iters/100) == 0):\n",
    "            print(f\"Iterations : {i:5} , cost : {cost_history[-1]}\")\n",
    "        \n",
    "    return w1, b1,w2,b2, cost_history"
   ]
  },
  {
   "cell_type": "code",
   "execution_count": 22,
   "id": "01198be3-6597-4f56-8bb8-d1fc3d581a9e",
   "metadata": {},
   "outputs": [
    {
     "name": "stdout",
     "output_type": "stream",
     "text": [
      "Iterations :     0 , cost : 2.890574247516293\n",
      "Iterations :   100 , cost : 1.5035214773333498\n",
      "Iterations :   200 , cost : 0.5378603510469903\n",
      "Iterations :   300 , cost : 0.31937302084710995\n",
      "Iterations :   400 , cost : 0.24483041259097912\n",
      "Iterations :   500 , cost : 0.20635016013900045\n",
      "Iterations :   600 , cost : 0.18259860937445843\n",
      "Iterations :   700 , cost : 0.16625375061118935\n",
      "Iterations :   800 , cost : 0.15416099960084212\n",
      "Iterations :   900 , cost : 0.14475195182925177\n",
      "Iterations :  1000 , cost : 0.13710450338807567\n",
      "Iterations :  1100 , cost : 0.13068707421352624\n",
      "Iterations :  1200 , cost : 0.12519011355331056\n",
      "Iterations :  1300 , cost : 0.12040013963372426\n",
      "Iterations :  1400 , cost : 0.11615337644405103\n",
      "Iterations :  1500 , cost : 0.1123300167635591\n",
      "Iterations :  1600 , cost : 0.10886455463232296\n",
      "Iterations :  1700 , cost : 0.10569749924078344\n",
      "Iterations :  1800 , cost : 0.10277482476121919\n",
      "Iterations :  1900 , cost : 0.10007601487676866\n",
      "Iterations :  2000 , cost : 0.09757456201171699\n",
      "Iterations :  2100 , cost : 0.0952320452749705\n",
      "Iterations :  2200 , cost : 0.09303496939094369\n",
      "Iterations :  2300 , cost : 0.09095862540150981\n",
      "Iterations :  2400 , cost : 0.08899657154125876\n",
      "Iterations :  2500 , cost : 0.08713636440365892\n",
      "Iterations :  2600 , cost : 0.08537449793672079\n",
      "Iterations :  2700 , cost : 0.08368979238904077\n",
      "Iterations :  2800 , cost : 0.08207556177778687\n",
      "Iterations :  2900 , cost : 0.08053144750827203\n",
      "Iterations :  3000 , cost : 0.07905242675490058\n",
      "Iterations :  3100 , cost : 0.07762946250263887\n",
      "Iterations :  3200 , cost : 0.07625782959825107\n",
      "Iterations :  3300 , cost : 0.07493553541768455\n",
      "Iterations :  3400 , cost : 0.07365945142573736\n",
      "Iterations :  3500 , cost : 0.07242754062879725\n",
      "Iterations :  3600 , cost : 0.0712347120470518\n",
      "Iterations :  3700 , cost : 0.07007995530838593\n",
      "Iterations :  3800 , cost : 0.06895831204161648\n",
      "Iterations :  3900 , cost : 0.06787238113674081\n",
      "Iterations :  4000 , cost : 0.06682048999879009\n",
      "Iterations :  4100 , cost : 0.06579817923315702\n",
      "Iterations :  4200 , cost : 0.06479751306722205\n",
      "Iterations :  4300 , cost : 0.0638215913887495\n",
      "Iterations :  4400 , cost : 0.06286901114060092\n",
      "Iterations :  4500 , cost : 0.06193694993134213\n",
      "Iterations :  4600 , cost : 0.06102732275444805\n",
      "Iterations :  4700 , cost : 0.06013789445169861\n",
      "Iterations :  4800 , cost : 0.05926860311851653\n",
      "Iterations :  4900 , cost : 0.05841731661387556\n",
      "Iterations :  5000 , cost : 0.057584186031954275\n",
      "Iterations :  5100 , cost : 0.05677001877692661\n",
      "Iterations :  5200 , cost : 0.05597698351573052\n",
      "Iterations :  5300 , cost : 0.05519970151585218\n",
      "Iterations :  5400 , cost : 0.054434467875835356\n",
      "Iterations :  5500 , cost : 0.05368466762184662\n",
      "Iterations :  5600 , cost : 0.052943729204110175\n",
      "Iterations :  5700 , cost : 0.052216706821022356\n",
      "Iterations :  5800 , cost : 0.05150696378382413\n",
      "Iterations :  5900 , cost : 0.05081123759282541\n",
      "Iterations :  6000 , cost : 0.05012853892913382\n",
      "Iterations :  6100 , cost : 0.04945915799189156\n",
      "Iterations :  6200 , cost : 0.04880335321762866\n",
      "Iterations :  6300 , cost : 0.04816263521350242\n",
      "Iterations :  6400 , cost : 0.04753325353105073\n",
      "Iterations :  6500 , cost : 0.0469146037216414\n",
      "Iterations :  6600 , cost : 0.04630627879163072\n",
      "Iterations :  6700 , cost : 0.045708607030993234\n",
      "Iterations :  6800 , cost : 0.04512322145964115\n",
      "Iterations :  6900 , cost : 0.044548438582784684\n",
      "Iterations :  7000 , cost : 0.04398327166009625\n",
      "Iterations :  7100 , cost : 0.04342760269357541\n",
      "Iterations :  7200 , cost : 0.042881210438170794\n",
      "Iterations :  7300 , cost : 0.04234377728973614\n",
      "Iterations :  7400 , cost : 0.04181483156823704\n",
      "Iterations :  7500 , cost : 0.04129240946171523\n",
      "Iterations :  7600 , cost : 0.040777973199883764\n",
      "Iterations :  7700 , cost : 0.04027268975169884\n",
      "Iterations :  7800 , cost : 0.03977631352312741\n",
      "Iterations :  7900 , cost : 0.03928697056184658\n",
      "Iterations :  8000 , cost : 0.038805117004232614\n",
      "Iterations :  8100 , cost : 0.03833257872049727\n",
      "Iterations :  8200 , cost : 0.037868361199817874\n",
      "Iterations :  8300 , cost : 0.03741133631774443\n",
      "Iterations :  8400 , cost : 0.0369605703453936\n",
      "Iterations :  8500 , cost : 0.036516526970738754\n",
      "Iterations :  8600 , cost : 0.03608023486073978\n",
      "Iterations :  8700 , cost : 0.03565161344138487\n",
      "Iterations :  8800 , cost : 0.035229445229900506\n",
      "Iterations :  8900 , cost : 0.03481397929905965\n",
      "Iterations :  9000 , cost : 0.034404043397318715\n",
      "Iterations :  9100 , cost : 0.03399963249704586\n",
      "Iterations :  9200 , cost : 0.03360079404799623\n",
      "Iterations :  9300 , cost : 0.03320790868524262\n",
      "Iterations :  9400 , cost : 0.032818449487940805\n",
      "Iterations :  9500 , cost : 0.032433359254978665\n",
      "Iterations :  9600 , cost : 0.032054010377527066\n",
      "Iterations :  9700 , cost : 0.03167985810926768\n",
      "Iterations :  9800 , cost : 0.03131149314652873\n",
      "Iterations :  9900 , cost : 0.03094746947004998\n"
     ]
    }
   ],
   "source": [
    "w1_final, b1_final,w2_final,b2_final, cost_history = Gradient_descent(X_train_final, Y_train , 10000 , 0.1 , 32)\n"
   ]
  },
  {
   "cell_type": "markdown",
   "id": "662e1248-08db-40d6-9c67-e6170157e183",
   "metadata": {},
   "source": [
    "<h3>COST VS NUMBER  OF ITERATIONS PLOT</h3>"
   ]
  },
  {
   "cell_type": "code",
   "execution_count": 23,
   "id": "b84f3388-bf74-4b0e-b891-f4c2f04a491f",
   "metadata": {},
   "outputs": [
    {
     "data": {
      "image/png": "[encoded data removed]",
      "text/plain": [
       "<Figure size 640x480 with 1 Axes>"
      ]
     },
     "metadata": {},
     "output_type": "display_data"
    }
   ],
   "source": [
    "plt.plot(np.arange(len(cost_history)), cost_history)\n",
    "plt.xlabel('Number of Iterations', size=13)\n",
    "plt.ylabel('Cost', size=14)\n",
    "plt.title('Cost vs No. of Iterations', size = 15)\n",
    "plt.show()"
   ]
  },
  {
   "cell_type": "code",
   "execution_count": 24,
   "id": "26541c09-1d23-40f2-969c-a0d36ce2e2ed",
   "metadata": {},
   "outputs": [],
   "source": [
    "z1,a1,z2,a2 = forward_propagation(X_train_final, w1_final , b1_final, w2_final, b2_final)"
   ]
  },
  {
   "cell_type": "code",
   "execution_count": 25,
   "id": "7a786153-8115-495a-b32a-29900889e758",
   "metadata": {},
   "outputs": [
    {
     "name": "stdout",
     "output_type": "stream",
     "text": [
      "[[1.00000000e-07 3.48324305e-07 1.00000000e-07 ... 1.00000000e-07\n",
      "  1.00000000e-07 1.00000000e-07]\n",
      " [1.00000000e-07 1.00000000e-07 9.99999900e-01 ... 1.00000000e-07\n",
      "  1.00000000e-07 1.00000000e-07]\n",
      " [9.90092471e-01 9.44525110e-05 9.79462252e-03 ... 1.00000000e-07\n",
      "  1.72218274e-07 5.53696129e-07]\n",
      " ...\n",
      " [9.99657144e-01 2.75076695e-05 1.47570224e-04 ... 1.04755130e-05\n",
      "  2.71246377e-06 1.00000000e-07]\n",
      " [2.52738553e-04 1.37174691e-03 3.03353641e-04 ... 9.64388258e-01\n",
      "  9.73393787e-04 5.14114587e-05]\n",
      " [1.59412992e-05 1.00000000e-07 1.60586268e-04 ... 9.78874194e-01\n",
      "  3.58138069e-07 1.57589178e-02]]\n",
      "[5 2 0 ... 0 7 7]\n"
     ]
    }
   ],
   "source": [
    "y_predict = np.clip(a2 , 1e-7  , 1-1e-7)\n",
    "print(y_predict)\n",
    "predictions = np.argmax(y_predict,axis=1)\n",
    "print(predictions)"
   ]
  },
  {
   "cell_type": "code",
   "execution_count": 26,
   "id": "80c050de-b0e0-40b5-b2c0-b715a7efb4e9",
   "metadata": {},
   "outputs": [
    {
     "name": "stdout",
     "output_type": "stream",
     "text": [
      "[3.53286191e-07 1.00000005e-07 9.95693503e-03 ... 3.42914984e-04\n",
      " 3.62613077e-02 2.13521497e-02]\n",
      "0.030588023113586247\n"
     ]
    }
   ],
   "source": [
    "loss = -np.log(y_predict[np.arange(len(y_predict)), Y_train])\n",
    "cross_entropy = np.mean(loss)\n",
    "print(loss)\n",
    "print(cross_entropy)"
   ]
  },
  {
   "cell_type": "code",
   "execution_count": 27,
   "id": "fedeb453-f726-4c5d-8289-f612498d3f98",
   "metadata": {},
   "outputs": [
    {
     "name": "stdout",
     "output_type": "stream",
     "text": [
      "accuracy: 99.42\n"
     ]
    }
   ],
   "source": [
    "accuracy = np.mean(predictions == Y_train)*100\n",
    "print(\"accuracy:\", accuracy)"
   ]
  },
  {
   "cell_type": "code",
   "execution_count": 28,
   "id": "9b726a12-0613-406e-a2f4-9c0ad14e857b",
   "metadata": {},
   "outputs": [],
   "source": [
    "z1_val,a1_val,z2_val,a2_val = forward_propagation(X_val_final, w1_final , b1_final, w2_final, b2_final)"
   ]
  },
  {
   "cell_type": "code",
   "execution_count": 29,
   "id": "7cac9a4a-74da-4d0b-bda4-e749a8f26503",
   "metadata": {},
   "outputs": [
    {
     "name": "stdout",
     "output_type": "stream",
     "text": [
      "[[1.24196297e-02 2.05233117e-07 1.24661913e-03 ... 5.16815244e-01\n",
      "  3.40590046e-06 4.31887986e-03]\n",
      " [2.28516149e-03 9.97409188e-01 3.97122906e-05 ... 1.33912356e-05\n",
      "  1.06209389e-04 1.37745052e-04]\n",
      " [8.72559036e-07 1.00000000e-07 1.74530478e-07 ... 9.99504783e-01\n",
      "  1.00000000e-07 1.03862514e-04]\n",
      " ...\n",
      " [4.01439814e-07 1.00000000e-07 1.00000000e-07 ... 9.65434863e-01\n",
      "  1.00000000e-07 1.00000000e-07]\n",
      " [1.76295666e-06 1.00000000e-07 1.00000000e-07 ... 1.00429308e-03\n",
      "  1.00000000e-07 1.55382265e-06]\n",
      " [1.00000000e-07 1.59157546e-05 4.88819794e-06 ... 1.00000000e-07\n",
      "  1.74653899e-07 1.00000000e-07]]\n",
      "[7 1 7 ... 7 6 5]\n"
     ]
    }
   ],
   "source": [
    "y_predict_val = np.clip(a2_val , 1e-7  , 1-1e-7)\n",
    "print(y_predict_val)\n",
    "predictions_val = np.argmax(y_predict_val,axis=1)\n",
    "print(predictions_val)"
   ]
  },
  {
   "cell_type": "code",
   "execution_count": 30,
   "id": "fd042683-ad08-468d-8aaf-2bf58ce7d402",
   "metadata": {},
   "outputs": [
    {
     "name": "stdout",
     "output_type": "stream",
     "text": [
      "[7.92163239e-01 2.59417399e-03 4.95339557e-04 ... 3.51766439e-02\n",
      " 1.00870208e-03 2.37889714e-05]\n",
      "0.09728292954016939\n"
     ]
    }
   ],
   "source": [
    "loss_val = -np.log(y_predict_val[np.arange(len(y_predict_val)), Y_val])\n",
    "cross_entropy_val = np.mean(loss_val)\n",
    "print(loss_val)\n",
    "print(cross_entropy_val)"
   ]
  },
  {
   "cell_type": "code",
   "execution_count": 31,
   "id": "13cc1076-12bd-40b0-82a2-2af535eaac0b",
   "metadata": {},
   "outputs": [
    {
     "name": "stdout",
     "output_type": "stream",
     "text": [
      "accuracy: 97.38\n"
     ]
    }
   ],
   "source": [
    "accuracy_val = np.mean(predictions_val == Y_val)*100\n",
    "print(\"accuracy:\", accuracy_val)"
   ]
  },
  {
   "cell_type": "markdown",
   "id": "697a179a-dd72-416c-82a5-0098e0239307",
   "metadata": {},
   "source": [
    "<h3>Testing the model on the Test dataset</h3>"
   ]
  },
  {
   "cell_type": "code",
   "execution_count": 32,
   "id": "5b847d33-ac63-45c6-9b1d-c778c1f89f48",
   "metadata": {},
   "outputs": [],
   "source": [
    "test_data = pd.read_csv(\"Downloads\\\\Classification_test\\\\Classification_test.csv\")\n",
    "# print(test_data.columns)\n",
    "test_data = test_data.to_numpy()"
   ]
  },
  {
   "cell_type": "code",
   "execution_count": 33,
   "id": "c8f23f71-78c4-488a-8bb7-a15920f92807",
   "metadata": {},
   "outputs": [],
   "source": [
    "X_test = np.delete(test_data , 0 , axis =1)\n",
    "ID = test_data[:,0]"
   ]
  },
  {
   "cell_type": "code",
   "execution_count": 34,
   "id": "5d036085-07b0-4df0-a66e-cb525ff63a30",
   "metadata": {},
   "outputs": [
    {
     "data": {
      "text/plain": [
       "(10000, 784)"
      ]
     },
     "execution_count": 34,
     "metadata": {},
     "output_type": "execute_result"
    }
   ],
   "source": [
    "X_test.shape"
   ]
  },
  {
   "cell_type": "code",
   "execution_count": 35,
   "id": "a37c11ab-2304-4710-a1d3-984db9c6ee57",
   "metadata": {},
   "outputs": [],
   "source": [
    "X_test_final = norm(X_test)"
   ]
  },
  {
   "cell_type": "code",
   "execution_count": 36,
   "id": "c342cbf1-cf58-4630-864f-0bc0f5611a25",
   "metadata": {},
   "outputs": [
    {
     "data": {
      "text/plain": [
       "<function matplotlib.pyplot.show(close=None, block=None)>"
      ]
     },
     "execution_count": 36,
     "metadata": {},
     "output_type": "execute_result"
    },
    {
     "data": {
      "image/png": "[encoded data removed]",
      "text/plain": [
       "<Figure size 1200x300 with 3 Axes>"
      ]
     },
     "metadata": {},
     "output_type": "display_data"
    }
   ],
   "source": [
    "fig,ax=plt.subplots(1,3,figsize=(12,3))\n",
    "for i in range(3):\n",
    "    ax[i].imshow(X_test[i].reshape(28,28))\n",
    "plt.tight_layout()\n",
    "plt.show"
   ]
  },
  {
   "cell_type": "code",
   "execution_count": 37,
   "id": "a08d8688-5124-49e9-91a3-d7f70c859add",
   "metadata": {},
   "outputs": [
    {
     "name": "stdout",
     "output_type": "stream",
     "text": [
      "[0 4 5 ... 0 8 2]\n"
     ]
    }
   ],
   "source": [
    "z1_test,a1_test,z2_test,a2_test = forward_propagation(X_test_final, w1_final , b1_final, w2_final, b2_final)\n",
    "y_predict_test = np.clip(a2_test , 1e-7  , 1-1e-7)\n",
    "predictions_test = np.argmax(y_predict_test,axis=1)\n",
    "print(predictions_test)"
   ]
  },
  {
   "cell_type": "code",
   "execution_count": 38,
   "id": "1bafd316-9ebd-4d7f-b764-ac0a7a3cb18c",
   "metadata": {},
   "outputs": [],
   "source": [
    "test_data_predictions = np.c_[ID,predictions_test]\n",
    "df = pd.DataFrame(test_data_predictions , columns = ['IDs','Predicted-Labels'])\n",
    "df.to_csv(\"Downloads\\\\CL-Project\\\\Neural_Network_Predictions.csv\", index=False)"
   ]
  }
 ],
 "metadata": {
  "kernelspec": {
   "display_name": "Python 3 (ipykernel)",
   "language": "python",
   "name": "python3"
  },
  "language_info": {
   "codemirror_mode": {
    "name": "ipython",
    "version": 3
   },
   "file_extension": ".py",
   "mimetype": "text/x-python",
   "name": "python",
   "nbconvert_exporter": "python",
   "pygments_lexer": "ipython3",
   "version": "3.11.4"
  }
 },
 "nbformat": 4,
 "nbformat_minor": 5
}
