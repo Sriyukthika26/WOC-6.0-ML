{
 "cells": [
  {
   "cell_type": "code",
   "execution_count": 51,
   "id": "a10807a6-b750-4102-ab19-58eec4d5c594",
   "metadata": {},
   "outputs": [],
   "source": [
    "import numpy as np\n",
    "import pandas as pd\n",
    "import matplotlib.pyplot as plt\n",
    "import math"
   ]
  },
  {
   "cell_type": "code",
   "execution_count": 3,
   "id": "ad6fd3a9-daee-4f82-96f6-b259a3b0151e",
   "metadata": {},
   "outputs": [],
   "source": [
    "data = pd.read_csv(\"Downloads\\\\Classification_train\\\\Classification_train.csv\")\n",
    "# print(data)\n",
    "# print(data.columns)\n",
    "data = data.to_numpy()    #converting the dataset to numpy"
   ]
  },
  {
   "cell_type": "markdown",
   "id": "03919796-182d-4fbb-9652-3b01ffc6517e",
   "metadata": {},
   "source": [
    "<H3>STEPS</H3>\n",
    "1)Understanding the training dataset\n",
    "<br>\n",
    "2)Feature scaling\n",
    "<br>\n",
    "3)Defining necessary functions\n",
    "<br>\n",
    "4)Finding parameters using Gradient Descent Algorithm\n",
    "<br>\n",
    "5)accuracy\n",
    "<br>\n",
    "6)Working on Test-dataset"
   ]
  },
  {
   "cell_type": "code",
   "execution_count": 4,
   "id": "d6ab477a-ea99-43d3-9c53-5053914a6677",
   "metadata": {},
   "outputs": [],
   "source": [
    "np.random.shuffle(data)\n",
    "X = data[:, range(1,785)]   #features\n",
    "Y = data[: , 0]            #targets"
   ]
  },
  {
   "cell_type": "code",
   "execution_count": 5,
   "id": "691acc2b-3642-4036-aeea-ced6683c1d8a",
   "metadata": {},
   "outputs": [],
   "source": [
    "X_train = X[:20000 , :]\n",
    "Y_train = Y[:20000]\n",
    "X_val = X[20000: , :]\n",
    "Y_val = Y[20000:]"
   ]
  },
  {
   "cell_type": "code",
   "execution_count": 6,
   "id": "b2e6165d-b594-4eb5-8b5e-33b73315f94a",
   "metadata": {},
   "outputs": [
    {
     "name": "stdout",
     "output_type": "stream",
     "text": [
      "[[0 0 0 ... 0 0 0]\n",
      " [0 0 0 ... 0 0 0]]\n",
      "(20000, 784)\n",
      "(10000, 784)\n"
     ]
    }
   ],
   "source": [
    "print(X_train[:2, :])\n",
    "print(X_train.shape)\n",
    "print(X_val.shape)"
   ]
  },
  {
   "cell_type": "code",
   "execution_count": 7,
   "id": "8be75256-f151-4315-9876-c95e93284d7d",
   "metadata": {},
   "outputs": [
    {
     "name": "stdout",
     "output_type": "stream",
     "text": [
      "[7 3 6 ... 3 2 4]\n"
     ]
    },
    {
     "data": {
      "text/plain": [
       "(20000,)"
      ]
     },
     "execution_count": 7,
     "metadata": {},
     "output_type": "execute_result"
    }
   ],
   "source": [
    "print(Y_train)\n",
    "Y_train.shape"
   ]
  },
  {
   "cell_type": "code",
   "execution_count": 8,
   "id": "d6628ab7-9404-46f3-a0f1-97d560c2745c",
   "metadata": {},
   "outputs": [
    {
     "name": "stdout",
     "output_type": "stream",
     "text": [
      "255\n",
      "0\n"
     ]
    }
   ],
   "source": [
    "print(X_train[0].max())\n",
    "print(X_train[0].min()) "
   ]
  },
  {
   "cell_type": "markdown",
   "id": "4036676d-734c-4d0d-9739-88df32588092",
   "metadata": {},
   "source": [
    "<h3>Feature Scaling</h3>"
   ]
  },
  {
   "cell_type": "code",
   "execution_count": 37,
   "id": "4fb1018f-071a-4541-ad69-0f588b690abb",
   "metadata": {},
   "outputs": [],
   "source": [
    "def norm(X):\n",
    "    denominator_range = np.ptp(X, axis=1,keepdims = True)\n",
    "    output = X/denominator_range\n",
    "    return output\n"
   ]
  },
  {
   "cell_type": "code",
   "execution_count": 38,
   "id": "2e70330e-1b00-4032-ad85-79c1ed64ac59",
   "metadata": {},
   "outputs": [
    {
     "name": "stdout",
     "output_type": "stream",
     "text": [
      "[[0. 0. 0. ... 0. 0. 0.]\n",
      " [0. 0. 0. ... 0. 0. 0.]\n",
      " [0. 0. 0. ... 0. 0. 0.]\n",
      " ...\n",
      " [0. 0. 0. ... 0. 0. 0.]\n",
      " [0. 0. 0. ... 0. 0. 0.]\n",
      " [0. 0. 0. ... 0. 0. 0.]]\n"
     ]
    }
   ],
   "source": [
    "X_train_final = norm(X_train)    #final X that is to be used for further computations\n",
    "print(X_train_final)\n",
    "X_val_final = norm(X_val)"
   ]
  },
  {
   "cell_type": "code",
   "execution_count": 39,
   "id": "4b559e4c-d92d-4ef4-9be5-1e79c5eb3595",
   "metadata": {},
   "outputs": [
    {
     "name": "stdout",
     "output_type": "stream",
     "text": [
      "1.0\n",
      "0.0\n"
     ]
    }
   ],
   "source": [
    "print(X_train_final.max())\n",
    "print(X_train_final.min())"
   ]
  },
  {
   "cell_type": "code",
   "execution_count": 40,
   "id": "47bb18f2-531f-484c-8122-31a6579776e4",
   "metadata": {},
   "outputs": [
    {
     "name": "stdout",
     "output_type": "stream",
     "text": [
      "1.0\n",
      "0.0\n"
     ]
    }
   ],
   "source": [
    "print(X_val_final[0].max())\n",
    "print(X_val_final[0].min())"
   ]
  },
  {
   "cell_type": "code",
   "execution_count": 41,
   "id": "0c062833-d444-43fd-94f1-3f1bf32dafe8",
   "metadata": {},
   "outputs": [
    {
     "data": {
      "text/plain": [
       "<function matplotlib.pyplot.show(close=None, block=None)>"
      ]
     },
     "execution_count": 41,
     "metadata": {},
     "output_type": "execute_result"
    },
    {
     "data": {
      "image/png": "[encoded data removed]",
      "text/plain": [
       "<Figure size 1200x300 with 3 Axes>"
      ]
     },
     "metadata": {},
     "output_type": "display_data"
    }
   ],
   "source": [
    "fig,ax=plt.subplots(1,3,figsize=(12,3))\n",
    "for i in range(3):\n",
    "    ax[i].imshow(X_train[i].reshape(28,28))\n",
    "plt.tight_layout()\n",
    "plt.show"
   ]
  },
  {
   "cell_type": "code",
   "execution_count": 42,
   "id": "5f3d6101-de4c-4305-9bad-a9089be085eb",
   "metadata": {},
   "outputs": [
    {
     "data": {
      "text/plain": [
       "<function matplotlib.pyplot.show(close=None, block=None)>"
      ]
     },
     "execution_count": 42,
     "metadata": {},
     "output_type": "execute_result"
    },
    {
     "data": {
      "image/png": "[encoded data removed]",
      "text/plain": [
       "<Figure size 1200x300 with 3 Axes>"
      ]
     },
     "metadata": {},
     "output_type": "display_data"
    }
   ],
   "source": [
    "fig,ax=plt.subplots(1,3,figsize=(12,3))\n",
    "for i in range(3):\n",
    "    ax[i].imshow(X_val[i].reshape(28,28))\n",
    "plt.tight_layout()\n",
    "plt.show"
   ]
  },
  {
   "cell_type": "code",
   "execution_count": 15,
   "id": "32195076-dec5-45cb-8da7-f0129adac1d0",
   "metadata": {},
   "outputs": [
    {
     "name": "stdout",
     "output_type": "stream",
     "text": [
      "[0 1 2 3 4 5 6 7 8 9]\n"
     ]
    }
   ],
   "source": [
    "t = np.unique(Y_train)\n",
    "print(t)"
   ]
  },
  {
   "cell_type": "markdown",
   "id": "afe808ae-d711-4d35-a36d-b108f721bd9e",
   "metadata": {},
   "source": [
    "<h3>Defining some necessary function</h3>"
   ]
  },
  {
   "cell_type": "code",
   "execution_count": 16,
   "id": "48e4b97e-0b6e-476c-adcf-b1d97a294fe4",
   "metadata": {},
   "outputs": [],
   "source": [
    "def sigmoid(z):\n",
    "    g = 1/(1+np.exp(-z))\n",
    "    return g"
   ]
  },
  {
   "cell_type": "code",
   "execution_count": 17,
   "id": "d6874506-6b05-4c41-b4ef-a7f7f10df243",
   "metadata": {},
   "outputs": [],
   "source": [
    "'''One-hot Encoding'''\n",
    "def one_hot(classes,Y):\n",
    "    Y_one_hot = np.eye(classes)[Y]\n",
    "    return Y_one_hot.T"
   ]
  },
  {
   "cell_type": "code",
   "execution_count": 18,
   "id": "3004552f-b401-43a0-b76f-6ab4cd5605ca",
   "metadata": {},
   "outputs": [
    {
     "name": "stdout",
     "output_type": "stream",
     "text": [
      "[[0. 0. 0. ... 0. 0. 0.]\n",
      " [0. 0. 0. ... 0. 0. 0.]\n",
      " [0. 0. 0. ... 0. 1. 0.]\n",
      " ...\n",
      " [1. 0. 0. ... 0. 0. 0.]\n",
      " [0. 0. 0. ... 0. 0. 0.]\n",
      " [0. 0. 0. ... 0. 0. 0.]]\n",
      "(10, 20000)\n"
     ]
    }
   ],
   "source": [
    "u = one_hot(10,Y_train)\n",
    "print(u)\n",
    "print(u.shape)"
   ]
  },
  {
   "cell_type": "code",
   "execution_count": 19,
   "id": "43be58c5-5ee2-4562-946f-f20ffd1f99f5",
   "metadata": {},
   "outputs": [],
   "source": [
    "def compute_logistic_cost(X, Y, w, b, t):\n",
    "    m, n = X.shape\n",
    "    f_wb = sigmoid(X @ w.T + b)\n",
    "    cost = np.mean(-Y.T * np.log(f_wb) - (1 - Y.T) * np.log(1 - f_wb))\n",
    "    return cost"
   ]
  },
  {
   "cell_type": "code",
   "execution_count": 20,
   "id": "9941ad43-779e-4527-a222-0a44ce8d5ccd",
   "metadata": {},
   "outputs": [],
   "source": [
    "def compute_logistic_gradient(X, Y, w, b, t):\n",
    "    m, n = X.shape\n",
    "    dj_db = np.mean(sigmoid(X@w.T +b) - Y.T , axis = 0)\n",
    "    dj_dw = (sigmoid(X@w.T+b)-Y.T).T@X\n",
    "    dj_dw = dj_dw/m   \n",
    "    return dj_dw, dj_db\n",
    "    #X = (m,n)   #w=(classes , n)   b=(1,classes)    classes= t.shape[0]\n",
    "       #f_wb = (m,classes)     #y = (classes,m)"
   ]
  },
  {
   "cell_type": "code",
   "execution_count": 21,
   "id": "8a49d405-fc73-4132-afb5-0318e1629649",
   "metadata": {},
   "outputs": [],
   "source": [
    "'''function to perform Gradient Descent algorithm'''\n",
    "def Gradient_descent_logistic(X, Y ,num_iters,alpha,t):\n",
    "    m,n = X.shape\n",
    "    classes = t.shape[0]\n",
    "    w= np.zeros((t.shape[0],n))   \n",
    "    b=  np.zeros(t.shape[0])\n",
    "    cost_history = []\n",
    "    for i in range(num_iters):\n",
    "        dj_dw,dj_db = compute_logistic_gradient(X,Y,w,b,t)\n",
    "        w = w - (alpha*dj_dw)\n",
    "        b = b - (alpha*dj_db)\n",
    "        cost_history.append(compute_logistic_cost(X,Y,w,b,t))\n",
    "        if ( i% math.ceil(num_iters/100) == 0):\n",
    "            print(f\"Iterations : {i:5} , cost : {cost_history[-1]}\")\n",
    "    return w, b, cost_history"
   ]
  },
  {
   "cell_type": "markdown",
   "id": "bff5abf6-36b2-4ed4-904a-90b7cd053612",
   "metadata": {},
   "source": [
    "<h3>Finding parameters using Gradient Descent Algorithm</h3>\n",
    "<h5>Initialized weights and biases with zeroes of respective size</h5>"
   ]
  },
  {
   "cell_type": "code",
   "execution_count": 22,
   "id": "b9bc3f1e-dbf5-40eb-a0ce-e94693fc0247",
   "metadata": {},
   "outputs": [
    {
     "name": "stdout",
     "output_type": "stream",
     "text": [
      "Iterations :     0 , cost : 0.5140925466409143\n",
      "Iterations :   100 , cost : 0.05234852726782416\n",
      "Iterations :   200 , cost : 0.04350906855611494\n",
      "Iterations :   300 , cost : 0.03944787622720561\n",
      "Iterations :   400 , cost : 0.03695145260132202\n",
      "Iterations :   500 , cost : 0.03520006481100933\n",
      "Iterations :   600 , cost : 0.03387392880693173\n",
      "Iterations :   700 , cost : 0.03281862615748937\n",
      "Iterations :   800 , cost : 0.0319490610461815\n",
      "Iterations :   900 , cost : 0.031213860202623445\n",
      "Iterations :  1000 , cost : 0.03057985395179161\n",
      "Iterations :  1100 , cost : 0.030024493392093714\n",
      "Iterations :  1200 , cost : 0.02953181246752975\n",
      "Iterations :  1300 , cost : 0.029090127281001032\n",
      "Iterations :  1400 , cost : 0.028690651651156883\n",
      "Iterations :  1500 , cost : 0.02832662569550147\n",
      "Iterations :  1600 , cost : 0.027992746293247304\n",
      "Iterations :  1700 , cost : 0.027684782771711307\n",
      "Iterations :  1800 , cost : 0.02739931036738987\n",
      "Iterations :  1900 , cost : 0.027133520912496805\n",
      "Iterations :  2000 , cost : 0.026885085531361687\n",
      "Iterations :  2100 , cost : 0.02665205319652057\n",
      "Iterations :  2200 , cost : 0.02643277452859793\n",
      "Iterations :  2300 , cost : 0.0262258436998424\n",
      "Iterations :  2400 , cost : 0.02603005353983315\n",
      "Iterations :  2500 , cost : 0.025844360416524877\n",
      "Iterations :  2600 , cost : 0.0256678564569438\n",
      "Iterations :  2700 , cost : 0.025499747350162357\n",
      "Iterations :  2800 , cost : 0.025339334446995754\n",
      "Iterations :  2900 , cost : 0.025186000203845378\n",
      "Iterations :  3000 , cost : 0.025039196256188133\n",
      "Iterations :  3100 , cost : 0.024898433579439137\n",
      "Iterations :  3200 , cost : 0.02476327432088312\n",
      "Iterations :  3300 , cost : 0.024633324979507775\n",
      "Iterations :  3400 , cost : 0.024508230680229368\n",
      "Iterations :  3500 , cost : 0.02438767034174673\n",
      "Iterations :  3600 , cost : 0.02427135257773918\n",
      "Iterations :  3700 , cost : 0.024159012202610942\n",
      "Iterations :  3800 , cost : 0.024050407237782023\n",
      "Iterations :  3900 , cost : 0.02394531633425291\n",
      "Iterations :  4000 , cost : 0.023843536542973724\n",
      "Iterations :  4100 , cost : 0.023744881377255566\n",
      "Iterations :  4200 , cost : 0.023649179121692072\n",
      "Iterations :  4300 , cost : 0.023556271350289707\n",
      "Iterations :  4400 , cost : 0.02346601162312134\n",
      "Iterations :  4500 , cost : 0.023378264336130102\n",
      "Iterations :  4600 , cost : 0.02329290370297912\n",
      "Iterations :  4700 , cost : 0.023209812851278044\n",
      "Iterations :  4800 , cost : 0.023128883018293377\n",
      "Iterations :  4900 , cost : 0.02305001283350441\n",
      "Iterations :  5000 , cost : 0.02297310767721205\n",
      "Iterations :  5100 , cost : 0.02289807910593047\n",
      "Iterations :  5200 , cost : 0.022824844336560474\n",
      "Iterations :  5300 , cost : 0.022753325782409205\n",
      "Iterations :  5400 , cost : 0.02268345063502723\n",
      "Iterations :  5500 , cost : 0.022615150486607567\n",
      "Iterations :  5600 , cost : 0.02254836098835983\n",
      "Iterations :  5700 , cost : 0.02248302154085016\n",
      "Iterations :  5800 , cost : 0.022419075012800726\n",
      "Iterations :  5900 , cost : 0.02235646748528039\n",
      "Iterations :  6000 , cost : 0.02229514801859921\n",
      "Iterations :  6100 , cost : 0.022235068439551173\n",
      "Iterations :  6200 , cost : 0.02217618314693765\n",
      "Iterations :  6300 , cost : 0.02211844893355328\n",
      "Iterations :  6400 , cost : 0.02206182482303104\n",
      "Iterations :  6500 , cost : 0.022006271920129092\n",
      "Iterations :  6600 , cost : 0.021951753273200956\n",
      "Iterations :  6700 , cost : 0.02189823374772799\n",
      "Iterations :  6800 , cost : 0.021845679909910928\n",
      "Iterations :  6900 , cost : 0.02179405991941915\n",
      "Iterations :  7000 , cost : 0.02174334343048483\n",
      "Iterations :  7100 , cost : 0.021693501500606397\n",
      "Iterations :  7200 , cost : 0.021644506506193935\n",
      "Iterations :  7300 , cost : 0.021596332064549823\n",
      "Iterations :  7400 , cost : 0.02154895296163249\n",
      "Iterations :  7500 , cost : 0.02150234508510052\n",
      "Iterations :  7600 , cost : 0.02145648536217925\n",
      "Iterations :  7700 , cost : 0.02141135170193365\n",
      "Iterations :  7800 , cost : 0.021366922941568774\n",
      "Iterations :  7900 , cost : 0.021323178796414412\n",
      "Iterations :  8000 , cost : 0.021280099813282327\n",
      "Iterations :  8100 , cost : 0.02123766732691415\n",
      "Iterations :  8200 , cost : 0.021195863419264854\n",
      "Iterations :  8300 , cost : 0.021154670881391186\n",
      "Iterations :  8400 , cost : 0.02111407317773673\n",
      "Iterations :  8500 , cost : 0.021074054412625477\n",
      "Iterations :  8600 , cost : 0.02103459929879368\n",
      "Iterations :  8700 , cost : 0.02099569312780616\n",
      "Iterations :  8800 , cost : 0.02095732174221778\n",
      "Iterations :  8900 , cost : 0.0209194715093535\n",
      "Iterations :  9000 , cost : 0.020882129296592365\n",
      "Iterations :  9100 , cost : 0.020845282448050815\n",
      "Iterations :  9200 , cost : 0.02080891876256977\n",
      "Iterations :  9300 , cost : 0.020773026472918472\n",
      "Iterations :  9400 , cost : 0.020737594226134973\n",
      "Iterations :  9500 , cost : 0.02070261106492986\n",
      "Iterations :  9600 , cost : 0.020668066410085475\n",
      "Iterations :  9700 , cost : 0.020633950043788426\n",
      "Iterations :  9800 , cost : 0.020600252093837524\n",
      "Iterations :  9900 , cost : 0.02056696301867375\n"
     ]
    }
   ],
   "source": [
    "alpha = 1\n",
    "w_final , b_final  , J_history = Gradient_descent_logistic(X_train_final ,u , 10000, alpha ,t)"
   ]
  },
  {
   "cell_type": "markdown",
   "id": "229aea2f-f5a5-41b9-b64e-f03499591f0e",
   "metadata": {},
   "source": [
    "<h3>COST VS NUMBER  OF ITERATIONS PLOT</h3>"
   ]
  },
  {
   "cell_type": "code",
   "execution_count": 23,
   "id": "ef6b589f-3066-40a4-b4ef-7c4c400e1602",
   "metadata": {},
   "outputs": [
    {
     "data": {
      "image/png": "[encoded data removed]",
      "text/plain": [
       "<Figure size 640x480 with 1 Axes>"
      ]
     },
     "metadata": {},
     "output_type": "display_data"
    }
   ],
   "source": [
    "plt.plot(np.arange(len(J_history))[:1000], J_history[:1000])\n",
    "plt.xlabel('Number of Iterations', size=13)\n",
    "plt.ylabel('Cost', size=14)\n",
    "plt.title('Cost vs No. of Iterations', size = 15)\n",
    "plt.show()"
   ]
  },
  {
   "cell_type": "code",
   "execution_count": 24,
   "id": "a65be1c1-73c4-4690-b429-7af854c2f0b1",
   "metadata": {},
   "outputs": [
    {
     "name": "stdout",
     "output_type": "stream",
     "text": [
      "(10, 784)\n",
      "1.944579104014074\n",
      "-3.090969124340138\n"
     ]
    }
   ],
   "source": [
    "print(w_final.shape)\n",
    "print(w_final.max())\n",
    "print(w_final.min())"
   ]
  },
  {
   "cell_type": "code",
   "execution_count": 25,
   "id": "08fe8cc7-8143-4116-88ce-d6bf88478a95",
   "metadata": {},
   "outputs": [
    {
     "name": "stdout",
     "output_type": "stream",
     "text": [
      "[-5.89030205  0.92725155 -3.0102408  -4.85225835 -4.03326765 -7.85101186\n",
      "  1.54548514 -2.99767781 -2.62461905 -2.3044427 ]\n"
     ]
    }
   ],
   "source": [
    "print(b_final)"
   ]
  },
  {
   "cell_type": "code",
   "execution_count": 26,
   "id": "2a629194-b97f-48e9-8d05-63368a06320e",
   "metadata": {},
   "outputs": [],
   "source": [
    "def Predictions(X,w,b):\n",
    "    return sigmoid(X@w.T+b)"
   ]
  },
  {
   "cell_type": "code",
   "execution_count": 27,
   "id": "6d3f1e9b-29e3-428c-ada3-41d0f1f62320",
   "metadata": {},
   "outputs": [
    {
     "name": "stdout",
     "output_type": "stream",
     "text": [
      "[[1.36874649e-04 1.60815348e-08 1.14165436e-08 ... 9.64014508e-01\n",
      "  2.49554886e-08 9.73806061e-05]\n",
      " [4.41688250e-07 1.99023077e-08 9.95293786e-05 ... 4.83965193e-06\n",
      "  8.59262524e-11 9.59157711e-09]\n",
      " [7.40355222e-08 1.34208065e-06 1.21181621e-10 ... 3.36913699e-04\n",
      "  1.18642088e-08 1.39493056e-08]\n",
      " ...\n",
      " [9.21158120e-08 3.06139794e-05 3.41671064e-03 ... 5.53384841e-03\n",
      "  1.21971282e-09 1.31391604e-03]\n",
      " [2.77619650e-08 6.36286210e-07 9.99999920e-01 ... 9.14783590e-13\n",
      "  2.68032960e-10 1.45260747e-07]\n",
      " [3.91419930e-08 4.92277401e-11 6.38426983e-04 ... 1.38182275e-03\n",
      "  1.46834055e-05 1.60952415e-03]]\n"
     ]
    },
    {
     "data": {
      "text/plain": [
       "(20000, 10)"
      ]
     },
     "execution_count": 27,
     "metadata": {},
     "output_type": "execute_result"
    }
   ],
   "source": [
    "Y_train_predict = Predictions(X_train_final , w_final , b_final)\n",
    "print (Y_train_predict)\n",
    "Y_train_predict.shape"
   ]
  },
  {
   "cell_type": "code",
   "execution_count": 28,
   "id": "5e7c95a5-0ced-4c43-9ed6-f6d1764231e9",
   "metadata": {},
   "outputs": [
    {
     "name": "stdout",
     "output_type": "stream",
     "text": [
      "[7 3 6 ... 3 2 4]\n"
     ]
    }
   ],
   "source": [
    "predicted_class = np.argmax(Y_train_predict,axis=1)\n",
    "print(predicted_class)"
   ]
  },
  {
   "cell_type": "code",
   "execution_count": 29,
   "id": "3e52de02-0aa6-4b01-9bcc-c178386416d3",
   "metadata": {},
   "outputs": [
    {
     "name": "stdout",
     "output_type": "stream",
     "text": [
      "97.795\n"
     ]
    }
   ],
   "source": [
    "accuracy = np.mean(predicted_class ==Y_train)*100\n",
    "print(accuracy)"
   ]
  },
  {
   "cell_type": "code",
   "execution_count": 30,
   "id": "f61f079b-a339-4636-a19d-0deca3614c0d",
   "metadata": {},
   "outputs": [
    {
     "name": "stdout",
     "output_type": "stream",
     "text": [
      "[[9.97553101e-01 1.39578469e-04 3.94842195e-05 ... 1.32888902e-04\n",
      "  4.68035183e-05 2.01644159e-07]\n",
      " [4.59082063e-04 9.96840117e-01 3.16372900e-06 ... 3.89409639e-06\n",
      "  1.55410788e-09 1.14019938e-06]\n",
      " [5.19078579e-07 6.41949364e-05 3.59481409e-04 ... 1.48052469e-13\n",
      "  8.14925660e-04 5.57557749e-09]\n",
      " ...\n",
      " [9.25138876e-06 1.38843039e-05 1.18474288e-05 ... 8.87593542e-03\n",
      "  1.06489096e-07 2.82646883e-04]\n",
      " [4.56101758e-05 1.61741107e-10 4.62773842e-10 ... 2.35199740e-13\n",
      "  9.99999266e-01 5.49021027e-05]\n",
      " [4.74737867e-03 1.51130861e-07 7.02868256e-08 ... 6.54453181e-10\n",
      "  9.99885289e-01 1.17450480e-06]]\n"
     ]
    },
    {
     "data": {
      "text/plain": [
       "(10000, 10)"
      ]
     },
     "execution_count": 30,
     "metadata": {},
     "output_type": "execute_result"
    }
   ],
   "source": [
    "Y_val_predict = Predictions(X_val_final , w_final , b_final)\n",
    "print (Y_val_predict)\n",
    "Y_val_predict.shape"
   ]
  },
  {
   "cell_type": "code",
   "execution_count": 31,
   "id": "e6096f27-4de3-4350-b158-724cb032f2bf",
   "metadata": {},
   "outputs": [
    {
     "name": "stdout",
     "output_type": "stream",
     "text": [
      "[0 1 5 ... 3 8 8]\n"
     ]
    }
   ],
   "source": [
    "predicted_val_class = np.argmax(Y_val_predict,axis=1)\n",
    "print(predicted_val_class)"
   ]
  },
  {
   "cell_type": "code",
   "execution_count": 32,
   "id": "10a3419c-9229-4210-9eba-f083ddf287a4",
   "metadata": {},
   "outputs": [
    {
     "name": "stdout",
     "output_type": "stream",
     "text": [
      "96.73\n"
     ]
    }
   ],
   "source": [
    "accuracy = np.mean(predicted_val_class ==Y_val)*100\n",
    "print(accuracy)"
   ]
  },
  {
   "cell_type": "code",
   "execution_count": null,
   "id": "985548c5-e910-4869-9b0c-61dbadce569f",
   "metadata": {},
   "outputs": [],
   "source": []
  },
  {
   "cell_type": "markdown",
   "id": "703f290c-12ba-40d1-b20e-8120c5f72728",
   "metadata": {},
   "source": [
    "<h3>Testing the model on the Test dataset</h3>"
   ]
  },
  {
   "cell_type": "code",
   "execution_count": 43,
   "id": "b0efa4d3-f26e-4a73-b1ca-53e2b351a93b",
   "metadata": {},
   "outputs": [],
   "source": [
    "test_data = pd.read_csv(\"Downloads\\\\Classification_test\\\\Classification_test.csv\")\n",
    "# print(test_data.columns)\n",
    "test_data = test_data.to_numpy()"
   ]
  },
  {
   "cell_type": "code",
   "execution_count": 44,
   "id": "ea839605-bed8-4861-b6a7-984ab5ae2c8b",
   "metadata": {},
   "outputs": [],
   "source": [
    "X_test = np.delete(test_data , 0 , axis =1)\n",
    "ID = test_data[:,0]"
   ]
  },
  {
   "cell_type": "code",
   "execution_count": 45,
   "id": "a52e86b7-ec58-46ce-9545-2cd2006b075e",
   "metadata": {},
   "outputs": [
    {
     "data": {
      "text/plain": [
       "(10000, 784)"
      ]
     },
     "execution_count": 45,
     "metadata": {},
     "output_type": "execute_result"
    }
   ],
   "source": [
    "X_test.shape"
   ]
  },
  {
   "cell_type": "code",
   "execution_count": 46,
   "id": "6a6a73f9-f1a7-4d68-bb8e-a3a2f87df473",
   "metadata": {},
   "outputs": [],
   "source": [
    "X_test_final = norm(X_test)"
   ]
  },
  {
   "cell_type": "code",
   "execution_count": 47,
   "id": "bfd79e07-8cfd-429e-8e22-d6105078e8cb",
   "metadata": {},
   "outputs": [
    {
     "data": {
      "text/plain": [
       "<function matplotlib.pyplot.show(close=None, block=None)>"
      ]
     },
     "execution_count": 47,
     "metadata": {},
     "output_type": "execute_result"
    },
    {
     "data": {
      "image/png": "[encoded data removed]",
      "text/plain": [
       "<Figure size 1200x300 with 3 Axes>"
      ]
     },
     "metadata": {},
     "output_type": "display_data"
    }
   ],
   "source": [
    "fig,ax=plt.subplots(1,3,figsize=(12,3))\n",
    "for i in range(3):\n",
    "    ax[i].imshow(X_test[i].reshape(28,28))\n",
    "plt.tight_layout()\n",
    "plt.show"
   ]
  },
  {
   "cell_type": "code",
   "execution_count": 48,
   "id": "866df9cd-07e8-4f64-9cef-c5300842bb03",
   "metadata": {},
   "outputs": [
    {
     "name": "stdout",
     "output_type": "stream",
     "text": [
      "[[9.98699236e-01 2.22966561e-05 4.56751827e-04 ... 4.90598786e-05\n",
      "  5.59722289e-05 9.60376737e-09]\n",
      " [1.83687740e-06 1.43599947e-12 9.33273293e-06 ... 8.60538450e-07\n",
      "  7.52313625e-05 3.04216832e-05]\n",
      " [1.49332188e-10 4.69774070e-09 2.36122426e-02 ... 5.35920537e-21\n",
      "  1.12576984e-02 5.71961759e-06]\n",
      " ...\n",
      " [9.99557748e-01 5.30622029e-09 1.00886798e-06 ... 7.06513778e-03\n",
      "  7.22168002e-04 1.58791862e-07]\n",
      " [2.31666350e-02 6.46864191e-09 3.09248502e-05 ... 5.26328712e-07\n",
      "  9.98546313e-01 1.47831117e-08]\n",
      " [4.11633504e-10 3.87045304e-01 9.93825822e-01 ... 8.30947742e-09\n",
      "  2.60597594e-07 4.87687359e-08]]\n"
     ]
    },
    {
     "data": {
      "text/plain": [
       "(10000, 10)"
      ]
     },
     "execution_count": 48,
     "metadata": {},
     "output_type": "execute_result"
    }
   ],
   "source": [
    "Y_test_predict = Predictions(X_test_final , w_final , b_final)\n",
    "print (Y_test_predict)\n",
    "Y_test_predict.shape"
   ]
  },
  {
   "cell_type": "code",
   "execution_count": 49,
   "id": "3857d722-02a6-443a-993c-82e099d02bbd",
   "metadata": {},
   "outputs": [
    {
     "name": "stdout",
     "output_type": "stream",
     "text": [
      "[0 4 5 ... 0 8 2]\n"
     ]
    }
   ],
   "source": [
    "predicted_test_class = np.argmax(Y_test_predict,axis=1)\n",
    "print(predicted_test_class)"
   ]
  },
  {
   "cell_type": "code",
   "execution_count": 50,
   "id": "e31afb16-b318-42fe-9ce5-65a8787b5957",
   "metadata": {},
   "outputs": [],
   "source": [
    "test_data_predictions = np.c_[ID,predicted_test_class]\n",
    "df = pd.DataFrame(test_data_predictions , columns = ['IDs','Predicted-Labels'])\n",
    "df.to_csv(\"Downloads\\\\CL-Project\\\\logistic_Reg_Predictions.csv\", index=False)"
   ]
  },
  {
   "cell_type": "code",
   "execution_count": null,
   "id": "069e563f-3441-4642-8f2c-22ea1304895f",
   "metadata": {},
   "outputs": [],
   "source": []
  },
  {
   "cell_type": "code",
   "execution_count": null,
   "id": "5a0051f2-db15-49b2-82a2-929c21505efd",
   "metadata": {},
   "outputs": [],
   "source": []
  },
  {
   "cell_type": "code",
   "execution_count": null,
   "id": "d8645a4a-5782-464e-a5f7-fefe692b712d",
   "metadata": {},
   "outputs": [],
   "source": []
  }
 ],
 "metadata": {
  "kernelspec": {
   "display_name": "Python 3 (ipykernel)",
   "language": "python",
   "name": "python3"
  },
  "language_info": {
   "codemirror_mode": {
    "name": "ipython",
    "version": 3
   },
   "file_extension": ".py",
   "mimetype": "text/x-python",
   "name": "python",
   "nbconvert_exporter": "python",
   "pygments_lexer": "ipython3",
   "version": "3.11.4"
  }
 },
 "nbformat": 4,
 "nbformat_minor": 5
}
